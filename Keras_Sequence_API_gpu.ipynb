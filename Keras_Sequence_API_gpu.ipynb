{
 "cells": [
  {
   "cell_type": "code",
   "execution_count": null,
   "metadata": {},
   "outputs": [],
   "source": [
    "from datagenerator import *\n",
    "from unet import *\n",
    "import tensorflow as tf\n",
    "import numpy as np\n",
    "from tensorflow.keras import Input\n",
    "from tensorflow.keras.optimizers import Adam"
   ]
  },
  {
   "cell_type": "code",
   "execution_count": null,
   "metadata": {},
   "outputs": [],
   "source": [
    "print(tf.keras.__version__,tf.__version__)"
   ]
  },
  {
   "cell_type": "code",
   "execution_count": null,
   "metadata": {},
   "outputs": [],
   "source": [
    "def create_data(no_samples=100,dx=256,dy=256,dz=1):    \n",
    "    #create training data.\n",
    "    X=np.random.randn(no_samples,dx,dy,dz) #0 mean 1 std_dev\n",
    "    #generate reference data (label/true data)\n",
    "    Y=0.8*X+2   #0.8 std_dev 2 mean\n",
    "    print(X.shape,Y.shape)\n",
    "    #generate some validation data\n",
    "    X_val=np.random.randn(no_samples,dx,dy,dz)\n",
    "    Y_val=0.8*X_val+2\n",
    "    print(X_val.shape,Y_val.shape)\n",
    "    return (X,Y,X_val,Y_val)"
   ]
  },
  {
   "cell_type": "code",
   "execution_count": null,
   "metadata": {},
   "outputs": [],
   "source": [
    "X,Y,X_val,Y_val=create_data(no_samples=5000)"
   ]
  },
  {
   "cell_type": "code",
   "execution_count": null,
   "metadata": {},
   "outputs": [],
   "source": [
    "train_gen=DataGenerator(X=X,Y=Y,batch_size=32,shuffle=False)\n",
    "val_gen=DataGenerator(X=X_val,Y=Y_val,batch_size=32,shuffle=False)"
   ]
  },
  {
   "cell_type": "code",
   "execution_count": null,
   "metadata": {},
   "outputs": [],
   "source": [
    "def build_model_gpu():\n",
    "    strategy=tf.distribute.MirroredStrategy(['gpu:0','gpu:1'])\n",
    "    with strategy.scope():\n",
    "        input_tensor=Input((256,256,1))\n",
    "        model=unet(input_tensor,maxpool=False)\n",
    "        model.compile(optimizer=Adam(),loss='mse',metrics=['accuracy'])\n",
    "        return model"
   ]
  },
  {
   "cell_type": "code",
   "execution_count": null,
   "metadata": {},
   "outputs": [],
   "source": [
    "def build_model():\n",
    "    input_tensor=Input((256,256,1))\n",
    "    model=unet(input_tensor,maxpool=False)\n",
    "    model.compile(optimizer=Adam(),loss='mse',metrics=['accuracy'])\n",
    "    return model"
   ]
  },
  {
   "cell_type": "code",
   "execution_count": null,
   "metadata": {},
   "outputs": [],
   "source": [
    "model=build_model_gpu()"
   ]
  },
  {
   "cell_type": "code",
   "execution_count": null,
   "metadata": {},
   "outputs": [],
   "source": [
    "import math\n",
    "#for next_element in\n",
    "import time\n",
    "t0=time.time()\n",
    "model.fit(train_gen,\n",
    "                    steps_per_epoch=math.floor(len(X)/32),\n",
    "                    epochs=100,\n",
    "                    validation_data=val_gen\n",
    "                   )\n",
    "t1=time.time()"
   ]
  },
  {
   "cell_type": "code",
   "execution_count": null,
   "metadata": {},
   "outputs": [],
   "source": [
    "print(\"time_taken: \",t1-t0)"
   ]
  }
 ],
 "metadata": {
  "kernelspec": {
   "display_name": "Python 3",
   "language": "python",
   "name": "python3"
  },
  "language_info": {
   "codemirror_mode": {
    "name": "ipython",
    "version": 3
   },
   "file_extension": ".py",
   "mimetype": "text/x-python",
   "name": "python",
   "nbconvert_exporter": "python",
   "pygments_lexer": "ipython3",
   "version": "3.7.1"
  }
 },
 "nbformat": 4,
 "nbformat_minor": 2
}
